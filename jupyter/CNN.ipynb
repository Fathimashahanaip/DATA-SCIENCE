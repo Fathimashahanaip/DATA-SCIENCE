{
 "cells": [
  {
   "cell_type": "code",
   "execution_count": null,
   "id": "a1e33a1b",
   "metadata": {},
   "outputs": [],
   "source": [
    "# CNN\n",
    "import numpy as np\n",
    "import random\n",
    "import matplotlib.pyplot as plt\n",
    "import pandas as pd\n",
    "from tensorflow.keras.models import Sequential\n",
    "from tensorflow.keras.layers import Conv2D,MaxPooling2D,Dense,Flatten"
   ]
  },
  {
   "cell_type": "code",
   "execution_count": null,
   "id": "91314209",
   "metadata": {},
   "outputs": [],
   "source": [
    "# Load Dataset\n",
    "x_train=np.loadtxt('input.csv',delimiter=',')\n",
    "y_train=np.loadtxt('labels.csv',delimiter=',')\n",
    "x_test=np.loadtxt('input_test.csv',delimiter=',')\n",
    "y_test=np.loadtxt('labels_test.csv',delimiter=',')"
   ]
  },
  {
   "cell_type": "code",
   "execution_count": null,
   "id": "39073e6b",
   "metadata": {},
   "outputs": [],
   "source": [
    "x_train=x_train.reshape(len(x_train),100,100,3)\n",
    "y_train=y_train.reshape(len(y_train),1)\n",
    "\n",
    "x_test=x_test.reshape(len(x_test),100,100,3)\n",
    "y_test=y_test.reshape(len(y_test),1)\n",
    "\n",
    "x_train=x_train/255;\n",
    "y_train=y_train/255;"
   ]
  },
  {
   "cell_type": "code",
   "execution_count": null,
   "id": "cd791bf9",
   "metadata": {},
   "outputs": [],
   "source": [
    "print('shape of x_train',x_train.shape)\n",
    "print('shape of y_train',y_train.shape)\n",
    "print('shape of x_test',x_test.shape)\n",
    "print('shape of y_test',y_test.shape)"
   ]
  },
  {
   "cell_type": "code",
   "execution_count": null,
   "id": "fca92a1a",
   "metadata": {},
   "outputs": [],
   "source": [
    "index=random.randint(0,len(x_train))\n",
    "plt.imshow(x_train[index, :])\n",
    "plt.show()"
   ]
  },
  {
   "cell_type": "code",
   "execution_count": null,
   "id": "a0df3976",
   "metadata": {},
   "outputs": [],
   "source": [
    "# Model\n",
    "model = Sequential([\n",
    "    Conv2D(32,(3,3),activation='relu',input_shape=(100,100,3)),\n",
    "    MaxPooling2D((2,2)),\n",
    "    \n",
    "    Conv2D(32,(3,3),activation='relu'),\n",
    "    MaxPooling2D((2,2)),\n",
    "    \n",
    "    Flatten(),\n",
    "    Dense(64,activation='relu'),\n",
    "    Dense(1,activation='sigmoid')\n",
    "])"
   ]
  },
  {
   "cell_type": "code",
   "execution_count": null,
   "id": "7c155ece",
   "metadata": {},
   "outputs": [],
   "source": [
    "# optimizer=keras.optimizer.SGD(learning_rate=0.001)\n",
    "model.compile(loss='binary_crossentropy',optimizer='adam',metrics=['accuracy'])"
   ]
  },
  {
   "cell_type": "code",
   "execution_count": null,
   "id": "b753bccf",
   "metadata": {},
   "outputs": [],
   "source": [
    "model.fit(x_train,y_train,epochs=5,batch_size=64)"
   ]
  },
  {
   "cell_type": "code",
   "execution_count": null,
   "id": "a068e7cf",
   "metadata": {},
   "outputs": [],
   "source": [
    "model.evaluate(x_test,y_test)"
   ]
  },
  {
   "cell_type": "code",
   "execution_count": null,
   "id": "c7abe717",
   "metadata": {},
   "outputs": [],
   "source": [
    "# Making Predictions\n",
    "index2=random.randint(0,len(y_test))\n",
    "plt.imshow(x_test[index2,:])\n",
    "plt.show()\n",
    "\n",
    "y_pred=model.predict(x_test[index2,:].reshape(1,100,100,3))\n",
    "\n",
    "if(y_pred==0):\n",
    "    pred='dog'\n",
    "else:\n",
    "    pred='cat'\n",
    "\n",
    "print('Predicted image is :',pred)"
   ]
  },
  {
   "cell_type": "code",
   "execution_count": null,
   "id": "ed51683d",
   "metadata": {},
   "outputs": [],
   "source": []
  }
 ],
 "metadata": {
  "kernelspec": {
   "display_name": "Python 3",
   "language": "python",
   "name": "python3"
  },
  "language_info": {
   "codemirror_mode": {
    "name": "ipython",
    "version": 3
   },
   "file_extension": ".py",
   "mimetype": "text/x-python",
   "name": "python",
   "nbconvert_exporter": "python",
   "pygments_lexer": "ipython3",
   "version": "3.8.8"
  }
 },
 "nbformat": 4,
 "nbformat_minor": 5
}
